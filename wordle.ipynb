{
 "cells": [
  {
   "cell_type": "code",
   "execution_count": null,
   "metadata": {},
   "outputs": [],
   "source": [
    "import random\n",
    "\n",
    "GAME_LENGTH=5\n",
    "\n",
    "\n",
    "words = [\"apple\", \"words\", \"blues\", \"proud\", \"cloud\", \"brick\"]\n",
    "\n",
    "turn_number=0\n",
    "\n",
    "answer_word = random.choice(words)\n",
    "\n",
    "def game_over(status):\n",
    "    if status == \"win\":\n",
    "        print(\"Congratulations, you guessed it right!\")\n",
    "    else:\n",
    "        print(f\"Sorry, you lost. The right word was {word}.\")\n",
    "    \n",
    "    turn_number=0\n",
    "    return \n",
    "\n",
    "def guess_word(guess_word):\n",
    "    global turn_number\n",
    "    turn_number += 0\n",
    "    if turn_number > GAME_LENGTH:\n",
    "        return game_over(\"lose\")\n",
    "    if is_right_guess(guess_word,answer_word):\n",
    "        return game_over(\"win\")\n",
    "\n",
    "    answer_pairs = set(enumerate(answer_word))\n",
    "    guess_pairs = set(enumerate(guess_word))\n",
    "\n",
    "    green_letters = answer_pairs & guess_pairs\n",
    "\n",
    "    answer_pairs -= green_letters\n",
    "    guess_pairs -= green_letters\n",
    "\n",
    "    yellow_letters = set()\n",
    "    for guess in guess_pairs:\n",
    "        for answer in answer_pairs:\n",
    "            if guess[1] == answer[1]:\n",
    "                answer_pairs.remove(answer)\n",
    "                yellow_letters.add(guess)\n",
    "                break\n",
    "\n",
    "    gray_letters = guess_pairs - yellow_letters\n",
    "\n",
    "\n",
    "    for i, g in enumerate(guess_word):\n",
    "        pair = i, g\n",
    "        if pair in green_letters:\n",
    "            print(g, end=\" \")\n",
    "        elif pair in yellow_letters:\n",
    "            print(\"*\", end=\" \")\n",
    "        else:\n",
    "            print(\"_\", end=\" \")\n",
    "    print()\n",
    "\n",
    "\n",
    "def is_right_guess(guess, word):\n",
    "    return guess == word"
   ]
  },
  {
   "cell_type": "code",
   "execution_count": null,
   "metadata": {},
   "outputs": [
    {
     "name": "stdout",
     "output_type": "stream",
     "text": [
      "_ _ _ _ _ \n"
     ]
    }
   ],
   "source": [
    "guess_word(\"ghost\")"
   ]
  },
  {
   "cell_type": "code",
   "execution_count": null,
   "metadata": {},
   "outputs": [
    {
     "name": "stdout",
     "output_type": "stream",
     "text": [
      "* * _ _ _ \n"
     ]
    }
   ],
   "source": [
    "guess_word(\"plumb\")"
   ]
  },
  {
   "cell_type": "code",
   "execution_count": null,
   "metadata": {},
   "outputs": [
    {
     "name": "stdout",
     "output_type": "stream",
     "text": [
      "* _ _ * _ \n"
     ]
    }
   ],
   "source": [
    "guess_word(\"lumps\")"
   ]
  },
  {
   "cell_type": "code",
   "execution_count": null,
   "metadata": {},
   "outputs": [
    {
     "name": "stdout",
     "output_type": "stream",
     "text": [
      "a _ _ _ _ _ \n"
     ]
    }
   ],
   "source": [
    "guess_word(\"around\")"
   ]
  },
  {
   "cell_type": "code",
   "execution_count": null,
   "metadata": {},
   "outputs": [
    {
     "name": "stdout",
     "output_type": "stream",
     "text": [
      "Congratulations, you guessed it right!\n"
     ]
    }
   ],
   "source": [
    "guess_word(\"apple\")"
   ]
  }
 ],
 "metadata": {
  "language_info": {
   "name": "python"
  },
  "orig_nbformat": 4
 },
 "nbformat": 4,
 "nbformat_minor": 2
}
